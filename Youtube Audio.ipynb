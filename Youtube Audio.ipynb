{
 "cells": [
  {
   "cell_type": "markdown",
   "metadata": {},
   "source": [
    "## Download Youtube Audio using Python"
   ]
  },
  {
   "cell_type": "markdown",
   "metadata": {},
   "source": [
    "**install pafy, youtube_dl**"
   ]
  },
  {
   "cell_type": "code",
   "execution_count": 8,
   "metadata": {},
   "outputs": [
    {
     "name": "stdout",
     "output_type": "stream",
     "text": [
      "Enter the url:https://www.youtube.com/watch?v=CME-R5uz82w&ab_channel=AmazonPrimeVideoIndia\n",
      "  3,083,581.0 Bytes [100.00%] received. Rate: [ 477 KB/s].  ETA: [0 secs]    \n"
     ]
    }
   ],
   "source": [
    "import pafy\n",
    "url=input(\"Enter the url:\")\n",
    "video=pafy.new(url)\n",
    "\n",
    "#get the audio of url given\n",
    "audio=video.getbestaudio()\n",
    "\n",
    "#download the audio\n",
    "audio.download()"
   ]
  },
  {
   "cell_type": "markdown",
   "metadata": {},
   "source": [
    "*Audio file is saved as web*"
   ]
  }
 ],
 "metadata": {
  "kernelspec": {
   "display_name": "Python 3",
   "language": "python",
   "name": "python3"
  },
  "language_info": {
   "codemirror_mode": {
    "name": "ipython",
    "version": 3
   },
   "file_extension": ".py",
   "mimetype": "text/x-python",
   "name": "python",
   "nbconvert_exporter": "python",
   "pygments_lexer": "ipython3",
   "version": "3.7.9"
  }
 },
 "nbformat": 4,
 "nbformat_minor": 4
}
