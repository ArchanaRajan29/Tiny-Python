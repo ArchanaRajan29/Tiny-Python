{
 "cells": [
  {
   "cell_type": "markdown",
   "metadata": {},
   "source": [
    "## Spell checker using Python"
   ]
  },
  {
   "cell_type": "markdown",
   "metadata": {},
   "source": [
    "**install textblob** <br>\n",
    "list the words to be checked"
   ]
  },
  {
   "cell_type": "code",
   "execution_count": 9,
   "metadata": {},
   "outputs": [
    {
     "name": "stdout",
     "output_type": "stream",
     "text": [
      "Corrected list:\n",
      "Incorrect  world  great  beautiful  table  An  "
     ]
    }
   ],
   "source": [
    "from textblob import TextBlob\n",
    "mylist=[\"Incorrct\",\"wolrd\",\"hreat\",\"beutiful\",\"tabl\",\"Van\"]\n",
    "corrected_list=[]\n",
    "for word in mylist:\n",
    "    corrected_list.append(TextBlob(word))\n",
    "\n",
    "print(\"***Corrected list**\")\n",
    "\n",
    "for word in corrected_list:\n",
    "    print(word.correct(),end=\"  \")"
   ]
  },
  {
   "cell_type": "code",
   "execution_count": null,
   "metadata": {},
   "outputs": [],
   "source": []
  }
 ],
 "metadata": {
  "kernelspec": {
   "display_name": "Python 3",
   "language": "python",
   "name": "python3"
  },
  "language_info": {
   "codemirror_mode": {
    "name": "ipython",
    "version": 3
   },
   "file_extension": ".py",
   "mimetype": "text/x-python",
   "name": "python",
   "nbconvert_exporter": "python",
   "pygments_lexer": "ipython3",
   "version": "3.7.9"
  }
 },
 "nbformat": 4,
 "nbformat_minor": 4
}
